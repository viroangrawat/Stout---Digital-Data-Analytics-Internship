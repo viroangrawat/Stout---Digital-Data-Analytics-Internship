{
  "nbformat": 4,
  "nbformat_minor": 0,
  "metadata": {
    "colab": {
      "name": "CaseStudy#2.ipynb",
      "provenance": [],
      "authorship_tag": "ABX9TyMSLi/SdFkvydFNPw5bJlKd",
      "include_colab_link": true
    },
    "kernelspec": {
      "name": "python3",
      "display_name": "Python 3"
    },
    "language_info": {
      "name": "python"
    }
  },
  "cells": [
    {
      "cell_type": "markdown",
      "metadata": {
        "id": "view-in-github",
        "colab_type": "text"
      },
      "source": [
        "<a href=\"https://colab.research.google.com/github/viroangrawat/Stout---Digital-Data-Analytics-Internship/blob/main/CaseStudy_2.ipynb\" target=\"_parent\"><img src=\"https://colab.research.google.com/assets/colab-badge.svg\" alt=\"Open In Colab\"/></a>"
      ]
    },
    {
      "cell_type": "code",
      "metadata": {
        "id": "hpWd58ipOwrn"
      },
      "source": [
        "import numpy as np\n",
        "import pandas as pd\n",
        "import matplotlib.pyplot as plt\n",
        "import seaborn as sns\n",
        "sns.set_theme(style=\"darkgrid\")\n",
        "import pandas as pd\n",
        "df = pd.read_csv('casestudy.csv', index_col=0)"
      ],
      "execution_count": 51,
      "outputs": []
    },
    {
      "cell_type": "code",
      "metadata": {
        "id": "Eed0zUDTUJ1b"
      },
      "source": [
        ""
      ],
      "execution_count": 3,
      "outputs": []
    },
    {
      "cell_type": "markdown",
      "metadata": {
        "id": "eHFggOiETl7V"
      },
      "source": [
        "# 2015"
      ]
    },
    {
      "cell_type": "code",
      "metadata": {
        "colab": {
          "base_uri": "https://localhost:8080/",
          "height": 202
        },
        "id": "VOoeciNqPxIy",
        "outputId": "b15f3ee2-e155-4dd2-f855-a0d60ca43d60"
      },
      "source": [
        "df.head()"
      ],
      "execution_count": 4,
      "outputs": [
        {
          "output_type": "execute_result",
          "data": {
            "text/html": [
              "<div>\n",
              "<style scoped>\n",
              "    .dataframe tbody tr th:only-of-type {\n",
              "        vertical-align: middle;\n",
              "    }\n",
              "\n",
              "    .dataframe tbody tr th {\n",
              "        vertical-align: top;\n",
              "    }\n",
              "\n",
              "    .dataframe thead th {\n",
              "        text-align: right;\n",
              "    }\n",
              "</style>\n",
              "<table border=\"1\" class=\"dataframe\">\n",
              "  <thead>\n",
              "    <tr style=\"text-align: right;\">\n",
              "      <th></th>\n",
              "      <th>customer_email</th>\n",
              "      <th>net_revenue</th>\n",
              "      <th>year</th>\n",
              "    </tr>\n",
              "  </thead>\n",
              "  <tbody>\n",
              "    <tr>\n",
              "      <th>0</th>\n",
              "      <td>nhknapwsbx@gmail.com</td>\n",
              "      <td>249.92</td>\n",
              "      <td>2015</td>\n",
              "    </tr>\n",
              "    <tr>\n",
              "      <th>1</th>\n",
              "      <td>joiuzbvcpn@gmail.com</td>\n",
              "      <td>87.61</td>\n",
              "      <td>2015</td>\n",
              "    </tr>\n",
              "    <tr>\n",
              "      <th>2</th>\n",
              "      <td>ukkjctepxt@gmail.com</td>\n",
              "      <td>168.38</td>\n",
              "      <td>2015</td>\n",
              "    </tr>\n",
              "    <tr>\n",
              "      <th>3</th>\n",
              "      <td>gykatilzrt@gmail.com</td>\n",
              "      <td>62.40</td>\n",
              "      <td>2015</td>\n",
              "    </tr>\n",
              "    <tr>\n",
              "      <th>4</th>\n",
              "      <td>mmsgsrtxah@gmail.com</td>\n",
              "      <td>43.08</td>\n",
              "      <td>2015</td>\n",
              "    </tr>\n",
              "  </tbody>\n",
              "</table>\n",
              "</div>"
            ],
            "text/plain": [
              "          customer_email  net_revenue  year\n",
              "0   nhknapwsbx@gmail.com       249.92  2015\n",
              "1   joiuzbvcpn@gmail.com        87.61  2015\n",
              "2   ukkjctepxt@gmail.com       168.38  2015\n",
              "3   gykatilzrt@gmail.com        62.40  2015\n",
              "4   mmsgsrtxah@gmail.com        43.08  2015"
            ]
          },
          "metadata": {},
          "execution_count": 4
        }
      ]
    },
    {
      "cell_type": "code",
      "metadata": {
        "colab": {
          "base_uri": "https://localhost:8080/"
        },
        "id": "XfVGj4oEBEBh",
        "outputId": "71117e21-69b7-43af-e6ed-843eea94311c"
      },
      "source": [
        "cust_2015 = df[df[\"year\"] == 2015]\n",
        "print(cust_2015)"
      ],
      "execution_count": 10,
      "outputs": [
        {
          "output_type": "stream",
          "name": "stdout",
          "text": [
            "               customer_email  net_revenue  year\n",
            "0        nhknapwsbx@gmail.com       249.92  2015\n",
            "1        joiuzbvcpn@gmail.com        87.61  2015\n",
            "2        ukkjctepxt@gmail.com       168.38  2015\n",
            "3        gykatilzrt@gmail.com        62.40  2015\n",
            "4        mmsgsrtxah@gmail.com        43.08  2015\n",
            "...                       ...          ...   ...\n",
            "231289   xtrpmgjbwp@gmail.com       216.89  2015\n",
            "231290   peeorxpsbr@gmail.com        39.16  2015\n",
            "231291   vanasezjpw@gmail.com       233.46  2015\n",
            "231292   dnpremlztb@gmail.com       136.27  2015\n",
            "231293   qsgswrpycl@gmail.com        60.24  2015\n",
            "\n",
            "[231294 rows x 3 columns]\n"
          ]
        }
      ]
    },
    {
      "cell_type": "code",
      "metadata": {
        "colab": {
          "base_uri": "https://localhost:8080/"
        },
        "id": "a4XYxSkFPyis",
        "outputId": "27f2eaee-afd8-4d20-dcf0-a1b5419c9a50"
      },
      "source": [
        "total_rev = df.query(\"year == 2015\")['net_revenue'].sum()\n",
        "print(total_rev)"
      ],
      "execution_count": 5,
      "outputs": [
        {
          "output_type": "stream",
          "name": "stdout",
          "text": [
            "29036749.189999994\n"
          ]
        }
      ]
    },
    {
      "cell_type": "code",
      "metadata": {
        "colab": {
          "base_uri": "https://localhost:8080/"
        },
        "id": "JHO5Zv6cQjII",
        "outputId": "2b67ba55-7fc8-4ec8-b5db-a6ff9f0caeb9"
      },
      "source": [
        "total_cust = df.query(\"year == 2015\")['net_revenue'].count()\n",
        "print(total_cust)"
      ],
      "execution_count": 6,
      "outputs": [
        {
          "output_type": "stream",
          "name": "stdout",
          "text": [
            "231294\n"
          ]
        }
      ]
    },
    {
      "cell_type": "markdown",
      "metadata": {
        "id": "brcShvCZM367"
      },
      "source": [
        "# 2016"
      ]
    },
    {
      "cell_type": "code",
      "metadata": {
        "colab": {
          "base_uri": "https://localhost:8080/"
        },
        "id": "PmF0pGpzUNEx",
        "outputId": "95ce5094-056f-4435-9c73-0c12f33397e7"
      },
      "source": [
        "total_rev_2016 = df.query(\"year == 2016\")['net_revenue'].sum()\n",
        "print(total_rev_2016)"
      ],
      "execution_count": 8,
      "outputs": [
        {
          "output_type": "stream",
          "name": "stdout",
          "text": [
            "25730943.59\n"
          ]
        }
      ]
    },
    {
      "cell_type": "code",
      "metadata": {
        "colab": {
          "base_uri": "https://localhost:8080/"
        },
        "id": "cQOIIrTwUar2",
        "outputId": "0aeaef03-f730-495f-ec22-b8c95558dc8a"
      },
      "source": [
        "cust_2016 = df[df[\"year\"] == 2016]\n",
        "print(cust_2016)"
      ],
      "execution_count": 9,
      "outputs": [
        {
          "output_type": "stream",
          "name": "stdout",
          "text": [
            "               customer_email  net_revenue  year\n",
            "231294   mwrossuukz@gmail.com       197.26  2016\n",
            "231295   gkwsoupawk@gmail.com        38.28  2016\n",
            "231296   vlyigtgfzs@gmail.com       154.57  2016\n",
            "231297   yfirychuhk@gmail.com       102.47  2016\n",
            "231298   trnzgqinuu@gmail.com        32.03  2016\n",
            "...                       ...          ...   ...\n",
            "435935   mezrjfkced@gmail.com       114.17  2016\n",
            "435936   rdotspqdxi@gmail.com       169.79  2016\n",
            "435937   fkweqlmmjw@gmail.com        79.71  2016\n",
            "435938   pidugzoeej@gmail.com       116.80  2016\n",
            "435939   kxqglfdktu@gmail.com        37.31  2016\n",
            "\n",
            "[204646 rows x 3 columns]\n"
          ]
        }
      ]
    },
    {
      "cell_type": "code",
      "metadata": {
        "colab": {
          "base_uri": "https://localhost:8080/"
        },
        "id": "XIhTm_WeA9Sx",
        "outputId": "c4e7be26-17cf-41be-8109-5f7c91a554d1"
      },
      "source": [
        "comm_cust_20162015 = pd.merge(cust_2015, cust_2016, how='inner', on=['customer_email'])\n",
        "print(comm_cust_20162015)"
      ],
      "execution_count": 13,
      "outputs": [
        {
          "output_type": "stream",
          "name": "stdout",
          "text": [
            "              customer_email  net_revenue_x  year_x  net_revenue_y  year_y\n",
            "0       baiikostmd@gmail.com         170.70    2015         142.57    2016\n",
            "1       lfeafnigbu@gmail.com          54.99    2015          35.06    2016\n",
            "2       tqxsjlgjpi@gmail.com         107.71    2015          33.50    2016\n",
            "3       hxshgpdxtr@gmail.com         180.59    2015         217.35    2016\n",
            "4       zvhsssvgor@gmail.com          21.55    2015          43.84    2016\n",
            "...                      ...            ...     ...            ...     ...\n",
            "59579   tpdtoiokyt@gmail.com          82.88    2015           5.60    2016\n",
            "59580   yeserbsmyf@gmail.com          46.60    2015          83.72    2016\n",
            "59581   nyunstvnpc@gmail.com          24.97    2015          18.56    2016\n",
            "59582   mezrjfkced@gmail.com         118.19    2015         114.17    2016\n",
            "59583   kxqglfdktu@gmail.com          73.32    2015          37.31    2016\n",
            "\n",
            "[59584 rows x 5 columns]\n"
          ]
        }
      ]
    },
    {
      "cell_type": "code",
      "metadata": {
        "colab": {
          "base_uri": "https://localhost:8080/"
        },
        "id": "84KlNhuSBkRR",
        "outputId": "476d7fab-c0b6-4296-9cad-559a739c5ec2"
      },
      "source": [
        "comm_cust_20162015 = comm_cust_20162015.drop([\"net_revenue_x\", \"year_x\", \"net_revenue_y\", \"year_y\"], axis=1)\n",
        "print(comm_cust_20162015)"
      ],
      "execution_count": 15,
      "outputs": [
        {
          "output_type": "stream",
          "name": "stdout",
          "text": [
            "              customer_email\n",
            "0       baiikostmd@gmail.com\n",
            "1       lfeafnigbu@gmail.com\n",
            "2       tqxsjlgjpi@gmail.com\n",
            "3       hxshgpdxtr@gmail.com\n",
            "4       zvhsssvgor@gmail.com\n",
            "...                      ...\n",
            "59579   tpdtoiokyt@gmail.com\n",
            "59580   yeserbsmyf@gmail.com\n",
            "59581   nyunstvnpc@gmail.com\n",
            "59582   mezrjfkced@gmail.com\n",
            "59583   kxqglfdktu@gmail.com\n",
            "\n",
            "[59584 rows x 1 columns]\n"
          ]
        }
      ]
    },
    {
      "cell_type": "code",
      "metadata": {
        "colab": {
          "base_uri": "https://localhost:8080/"
        },
        "id": "YduEX-M9CsBv",
        "outputId": "a4cc93b1-92d0-4aa9-9c08-cee9600ae605"
      },
      "source": [
        "newcust_2016 = (cust_2016[~cust_2016.customer_email.isin(comm_cust_20162015.customer_email)])\n",
        "print(newcust_2016)"
      ],
      "execution_count": 17,
      "outputs": [
        {
          "output_type": "stream",
          "name": "stdout",
          "text": [
            "               customer_email  net_revenue  year\n",
            "231294   mwrossuukz@gmail.com       197.26  2016\n",
            "231295   gkwsoupawk@gmail.com        38.28  2016\n",
            "231296   vlyigtgfzs@gmail.com       154.57  2016\n",
            "231297   yfirychuhk@gmail.com       102.47  2016\n",
            "231298   trnzgqinuu@gmail.com        32.03  2016\n",
            "...                       ...          ...   ...\n",
            "435933   sqodpufunf@gmail.com        29.62  2016\n",
            "435934   dcakqgznnm@gmail.com       146.47  2016\n",
            "435936   rdotspqdxi@gmail.com       169.79  2016\n",
            "435937   fkweqlmmjw@gmail.com        79.71  2016\n",
            "435938   pidugzoeej@gmail.com       116.80  2016\n",
            "\n",
            "[145062 rows x 3 columns]\n"
          ]
        }
      ]
    },
    {
      "cell_type": "code",
      "metadata": {
        "colab": {
          "base_uri": "https://localhost:8080/"
        },
        "id": "pUq-p8LBEh9w",
        "outputId": "191c36d4-9951-4e94-e2da-19e4b5e3d527"
      },
      "source": [
        "new_customer_revenue_2016 = newcust_2016['net_revenue'].sum()\n",
        "print(new_customer_revenue_2016)"
      ],
      "execution_count": 20,
      "outputs": [
        {
          "output_type": "stream",
          "name": "stdout",
          "text": [
            "18245491.01\n"
          ]
        }
      ]
    },
    {
      "cell_type": "code",
      "metadata": {
        "colab": {
          "base_uri": "https://localhost:8080/"
        },
        "id": "w6OhMjjdE1BH",
        "outputId": "64fabdb7-501a-4465-8ae7-47939bb54c64"
      },
      "source": [
        "new_comm_cust_20162015 = pd.merge(cust_2015, cust_2016, how='inner', on=['customer_email'])\n",
        "print(new_comm_cust_20162015)\n",
        "existing_customer_growth = (new_comm_cust_20162015[\"net_revenue_x\"].sum()) - (new_comm_cust_20162015[\"net_revenue_y\"].sum()) \n",
        "print(existing_customer_growth)"
      ],
      "execution_count": 22,
      "outputs": [
        {
          "output_type": "stream",
          "name": "stdout",
          "text": [
            "              customer_email  net_revenue_x  year_x  net_revenue_y  year_y\n",
            "0       baiikostmd@gmail.com         170.70    2015         142.57    2016\n",
            "1       lfeafnigbu@gmail.com          54.99    2015          35.06    2016\n",
            "2       tqxsjlgjpi@gmail.com         107.71    2015          33.50    2016\n",
            "3       hxshgpdxtr@gmail.com         180.59    2015         217.35    2016\n",
            "4       zvhsssvgor@gmail.com          21.55    2015          43.84    2016\n",
            "...                      ...            ...     ...            ...     ...\n",
            "59579   tpdtoiokyt@gmail.com          82.88    2015           5.60    2016\n",
            "59580   yeserbsmyf@gmail.com          46.60    2015          83.72    2016\n",
            "59581   nyunstvnpc@gmail.com          24.97    2015          18.56    2016\n",
            "59582   mezrjfkced@gmail.com         118.19    2015         114.17    2016\n",
            "59583   kxqglfdktu@gmail.com          73.32    2015          37.31    2016\n",
            "\n",
            "[59584 rows x 5 columns]\n",
            "-20335.459999999963\n"
          ]
        }
      ]
    },
    {
      "cell_type": "code",
      "metadata": {
        "colab": {
          "base_uri": "https://localhost:8080/"
        },
        "id": "fAwETQEGF4Aq",
        "outputId": "7abbc09b-2b28-46c2-f0fb-a55442396333"
      },
      "source": [
        "revenue_attrition_2016 = ((abs(existing_customer_growth)) / total_rev_2016) * 100\n",
        "print(revenue_attrition_2016)"
      ],
      "execution_count": 25,
      "outputs": [
        {
          "output_type": "stream",
          "name": "stdout",
          "text": [
            "0.07903114757090789\n"
          ]
        }
      ]
    },
    {
      "cell_type": "code",
      "metadata": {
        "colab": {
          "base_uri": "https://localhost:8080/"
        },
        "id": "ZDQDhxLRGoXu",
        "outputId": "f13cfbdb-ce3c-4036-f093-ba934ee5cc2d"
      },
      "source": [
        "existing_customers_revenue_2016 = new_comm_cust_20162015[\"net_revenue_y\"].sum()\n",
        "existing_customers_revenue_2015 = new_comm_cust_20162015[\"net_revenue_x\"].sum()\n",
        "print(existing_customers_revenue_2016)\n",
        "print(existing_customers_revenue_2015)\n"
      ],
      "execution_count": 32,
      "outputs": [
        {
          "output_type": "stream",
          "name": "stdout",
          "text": [
            "7485452.58\n",
            "7465117.12\n"
          ]
        }
      ]
    },
    {
      "cell_type": "code",
      "metadata": {
        "colab": {
          "base_uri": "https://localhost:8080/"
        },
        "id": "s8oIx6K0JonU",
        "outputId": "dd42d3d2-12d7-432a-94be-0652f91faaaf"
      },
      "source": [
        "print(cust_2016[\"customer_email\"].count())\n",
        "print(cust_2015[\"customer_email\"].count())\n"
      ],
      "execution_count": 36,
      "outputs": [
        {
          "output_type": "stream",
          "name": "stdout",
          "text": [
            "204646\n",
            "231294\n"
          ]
        }
      ]
    },
    {
      "cell_type": "code",
      "metadata": {
        "colab": {
          "base_uri": "https://localhost:8080/"
        },
        "id": "e1qjXFDuLnhv",
        "outputId": "aa8f65e9-d776-448d-ef29-21e004da436f"
      },
      "source": [
        "new_customer_2016 = newcust_2016[\"customer_email\"].count()\n",
        "lost_customer_2016 = cust_2015[\"customer_email\"].count() - cust_2016[\"customer_email\"].count()\n",
        "print(new_customer_2016)\n",
        "print(lost_customer_2016)"
      ],
      "execution_count": 38,
      "outputs": [
        {
          "output_type": "stream",
          "name": "stdout",
          "text": [
            "145062\n",
            "26648\n"
          ]
        }
      ]
    },
    {
      "cell_type": "markdown",
      "metadata": {
        "id": "yRiB5AQpMkBk"
      },
      "source": [
        "\n",
        "\n",
        "# 2017\n"
      ]
    },
    {
      "cell_type": "code",
      "metadata": {
        "colab": {
          "base_uri": "https://localhost:8080/"
        },
        "id": "tShPGkHDMmev",
        "outputId": "8ed3999d-4431-4088-f6c9-028812da5f03"
      },
      "source": [
        "cust_2017 = df[df[\"year\"] == 2017]\n",
        "total_rev_2017 = df.query(\"year == 2017\")['net_revenue'].sum()\n",
        "print(total_rev_2017)\n",
        "comm_cust_20172016 = pd.merge(cust_2017, cust_2016, how='inner', on=['customer_email'])\n",
        "print(comm_cust_20172016)"
      ],
      "execution_count": 42,
      "outputs": [
        {
          "output_type": "stream",
          "name": "stdout",
          "text": [
            "31417495.030000016\n",
            "             customer_email  net_revenue_x  year_x  net_revenue_y  year_y\n",
            "0      yixtbjnxce@gmail.com         133.86    2017         201.32    2016\n",
            "1      gwqjyelgct@gmail.com         164.10    2017          14.62    2016\n",
            "2      hxshgpdxtr@gmail.com         178.10    2017         217.35    2016\n",
            "3      gipqsrvngd@gmail.com         172.90    2017         156.06    2016\n",
            "4      cdvwonzpwu@gmail.com         102.46    2017         140.43    2016\n",
            "...                     ...            ...     ...            ...     ...\n",
            "20954  flkeldljhv@gmail.com         180.01    2017         211.68    2016\n",
            "20955  ecrvkbfunu@gmail.com         205.42    2017         230.49    2016\n",
            "20956  tpdtoiokyt@gmail.com         242.63    2017           5.60    2016\n",
            "20957  dcakqgznnm@gmail.com          62.66    2017         146.47    2016\n",
            "20958  fkweqlmmjw@gmail.com          21.78    2017          79.71    2016\n",
            "\n",
            "[20959 rows x 5 columns]\n"
          ]
        }
      ]
    },
    {
      "cell_type": "code",
      "metadata": {
        "colab": {
          "base_uri": "https://localhost:8080/"
        },
        "id": "X1NMiL0FNEhX",
        "outputId": "f44a823a-8453-415e-b872-12e98e88a518"
      },
      "source": [
        "newcust_2017 = (cust_2017[~cust_2017.customer_email.isin(comm_cust_20172016.customer_email)])\n",
        "print(newcust_2017)\n",
        "newcust2017_revenue = newcust_2017[\"net_revenue\"].sum()\n",
        "print(newcust2017_revenue)"
      ],
      "execution_count": 45,
      "outputs": [
        {
          "output_type": "stream",
          "name": "stdout",
          "text": [
            "               customer_email  net_revenue  year\n",
            "435940   mwrossuukz@gmail.com        96.61  2017\n",
            "435941  qvjfterwnk@gmail.com        176.00  2017\n",
            "435942   vlyigtgfzs@gmail.com        73.47  2017\n",
            "435943   yfirychuhk@gmail.com       138.17  2017\n",
            "435944   fdkiioqtli@gmail.com       156.87  2017\n",
            "...                       ...          ...   ...\n",
            "685922   qzqttwiftu@gmail.com       184.58  2017\n",
            "685923   pjodiifjop@gmail.com       133.03  2017\n",
            "685924   appaplmgko@gmail.com       200.98  2017\n",
            "685925   wvkpmwsgck@gmail.com       235.35  2017\n",
            "685926   aregboumbw@gmail.com       208.43  2017\n",
            "\n",
            "[229028 rows x 3 columns]\n",
            "28776235.039999995\n"
          ]
        }
      ]
    },
    {
      "cell_type": "code",
      "metadata": {
        "colab": {
          "base_uri": "https://localhost:8080/"
        },
        "id": "M4ZMWemdP9nh",
        "outputId": "51b24bb5-6423-4b47-d746-33564b05f5fd"
      },
      "source": [
        "new_comm_cust_20172016 = pd.merge(cust_2017, cust_2016, how='inner', on=['customer_email'])\n",
        "print(new_comm_cust_20172016)\n",
        "existing_customer_growth_2017 = (new_comm_cust_20172016[\"net_revenue_x\"].sum()) - (new_comm_cust_20172016[\"net_revenue_y\"].sum()) \n",
        "print(existing_customer_growth_2017)"
      ],
      "execution_count": 46,
      "outputs": [
        {
          "output_type": "stream",
          "name": "stdout",
          "text": [
            "             customer_email  net_revenue_x  year_x  net_revenue_y  year_y\n",
            "0      yixtbjnxce@gmail.com         133.86    2017         201.32    2016\n",
            "1      gwqjyelgct@gmail.com         164.10    2017          14.62    2016\n",
            "2      hxshgpdxtr@gmail.com         178.10    2017         217.35    2016\n",
            "3      gipqsrvngd@gmail.com         172.90    2017         156.06    2016\n",
            "4      cdvwonzpwu@gmail.com         102.46    2017         140.43    2016\n",
            "...                     ...            ...     ...            ...     ...\n",
            "20954  flkeldljhv@gmail.com         180.01    2017         211.68    2016\n",
            "20955  ecrvkbfunu@gmail.com         205.42    2017         230.49    2016\n",
            "20956  tpdtoiokyt@gmail.com         242.63    2017           5.60    2016\n",
            "20957  dcakqgznnm@gmail.com          62.66    2017         146.47    2016\n",
            "20958  fkweqlmmjw@gmail.com          21.78    2017          79.71    2016\n",
            "\n",
            "[20959 rows x 5 columns]\n",
            "20611.340000000317\n"
          ]
        }
      ]
    },
    {
      "cell_type": "code",
      "metadata": {
        "colab": {
          "base_uri": "https://localhost:8080/"
        },
        "id": "GucWdASQSABd",
        "outputId": "bd9a1c69-7633-47b3-9698-4cc2f2189ee4"
      },
      "source": [
        "revenue_attrition_2017 = ((abs(existing_customer_growth_2017)) / total_rev_2017) * 100\n",
        "print(revenue_attrition_2017)"
      ],
      "execution_count": 47,
      "outputs": [
        {
          "output_type": "stream",
          "name": "stdout",
          "text": [
            "0.06560465746972796\n"
          ]
        }
      ]
    },
    {
      "cell_type": "code",
      "metadata": {
        "colab": {
          "base_uri": "https://localhost:8080/"
        },
        "id": "erw960JFSrNy",
        "outputId": "28a951d4-264e-4848-db7a-e7a31a2184f1"
      },
      "source": [
        "existing_customers_revenue_2017 = new_comm_cust_20172016[\"net_revenue_x\"].sum()\n",
        "existing_customers_revenue_2016 = new_comm_cust_20172016[\"net_revenue_y\"].sum()\n",
        "print(existing_customers_revenue_2017)\n",
        "print(existing_customers_revenue_2016)"
      ],
      "execution_count": 48,
      "outputs": [
        {
          "output_type": "stream",
          "name": "stdout",
          "text": [
            "2641259.99\n",
            "2620648.65\n"
          ]
        }
      ]
    },
    {
      "cell_type": "code",
      "metadata": {
        "colab": {
          "base_uri": "https://localhost:8080/"
        },
        "id": "oV8k6bCoTJak",
        "outputId": "2f5f89ed-3c41-4927-8b24-c7c8d019ca77"
      },
      "source": [
        "print(cust_2016[\"customer_email\"].count())\n",
        "print(cust_2017[\"customer_email\"].count())"
      ],
      "execution_count": 49,
      "outputs": [
        {
          "output_type": "stream",
          "name": "stdout",
          "text": [
            "204646\n",
            "249987\n"
          ]
        }
      ]
    },
    {
      "cell_type": "code",
      "metadata": {
        "colab": {
          "base_uri": "https://localhost:8080/"
        },
        "id": "1Kf2KDZxTQX3",
        "outputId": "e49bbf4c-ed30-4f15-d325-567f09d6556a"
      },
      "source": [
        "new_customer_2017 = newcust_2017[\"customer_email\"].count()\n",
        "lost_customer_2017 = cust_2017[\"customer_email\"].count() - cust_2016[\"customer_email\"].count()\n",
        "print(new_customer_2017)\n",
        "print((lost_customer_2017))"
      ],
      "execution_count": 58,
      "outputs": [
        {
          "output_type": "stream",
          "name": "stdout",
          "text": [
            "229028\n",
            "45341\n"
          ]
        }
      ]
    },
    {
      "cell_type": "code",
      "metadata": {
        "id": "h7MQSexhTdd5"
      },
      "source": [
        ""
      ],
      "execution_count": null,
      "outputs": []
    },
    {
      "cell_type": "code",
      "metadata": {
        "colab": {
          "base_uri": "https://localhost:8080/",
          "height": 267
        },
        "id": "RiT1ewDHeH3R",
        "outputId": "6bd0368b-a4ed-4164-ab50-487e2cae351b"
      },
      "source": [
        "import seaborn as sns\n",
        "sns.set_theme(style=\"darkgrid\")\n",
        "ax = sns.countplot(data=cust_2015)"
      ],
      "execution_count": 75,
      "outputs": [
        {
          "output_type": "display_data",
          "data": {
            "image/png": "[encoded data removed]",
            "text/plain": [
              "<Figure size 432x288 with 1 Axes>"
            ]
          },
          "metadata": {}
        }
      ]
    },
    {
      "cell_type": "code",
      "metadata": {
        "colab": {
          "base_uri": "https://localhost:8080/",
          "height": 267
        },
        "id": "K73tCWaiiYjQ",
        "outputId": "b0b1d75d-96cb-4f7d-adf0-f4c8f6f73b1c"
      },
      "source": [
        "ax1 = sns.countplot(data=cust_2016)"
      ],
      "execution_count": 73,
      "outputs": [
        {
          "output_type": "display_data",
          "data": {
            "image/png": "[encoded data removed]",
            "text/plain": [
              "<Figure size 432x288 with 1 Axes>"
            ]
          },
          "metadata": {}
        }
      ]
    },
    {
      "cell_type": "code",
      "metadata": {
        "colab": {
          "base_uri": "https://localhost:8080/",
          "height": 267
        },
        "id": "1ehM9-oqia40",
        "outputId": "0f1ed356-4bfa-4cd4-8ddf-cb9fa9ca8d52"
      },
      "source": [
        "ax2= sns.countplot(data=cust_2017)\n"
      ],
      "execution_count": 74,
      "outputs": [
        {
          "output_type": "display_data",
          "data": {
            "image/png": "[encoded data removed]",
            "text/plain": [
              "<Figure size 432x288 with 1 Axes>"
            ]
          },
          "metadata": {}
        }
      ]
    },
    {
      "cell_type": "markdown",
      "metadata": {
        "id": "Ef5_6m9CT0OT"
      },
      "source": [
        "# Plots"
      ]
    },
    {
      "cell_type": "code",
      "metadata": {
        "colab": {
          "base_uri": "https://localhost:8080/",
          "height": 280
        },
        "id": "NQ6ZW-mkdN6O",
        "outputId": "0a9d7a21-a39c-41f6-d26e-04b6f48fb9b1"
      },
      "source": [
        "plt.bar([\"total_revenue_2015\", \"total_revenue_2016\", \"total_revenue_2017\"], [total_rev, total_rev_2016, total_rev_2017])\n",
        "plt.show()"
      ],
      "execution_count": 61,
      "outputs": [
        {
          "output_type": "display_data",
          "data": {
            "image/png": "[encoded data removed]",
            "text/plain": [
              "<Figure size 432x288 with 1 Axes>"
            ]
          },
          "metadata": {}
        }
      ]
    },
    {
      "cell_type": "code",
      "metadata": {
        "colab": {
          "base_uri": "https://localhost:8080/",
          "height": 521
        },
        "id": "LVdb9iVJT2Nv",
        "outputId": "9005986a-cb89-4afe-ee98-a10cf701886e"
      },
      "source": [
        "import matplotlib.pyplot as plt\n",
        "\n",
        "plt.bar([\"new_customer_2017\", \"lost_customer_2017\"], [new_customer_2017, lost_customer_2017])\n",
        "plt.show()\n",
        "plt.bar([\"new_customer_2016\", \"lost_customer_2016\"], [new_customer_2016, lost_customer_2016])\n",
        "plt.show()"
      ],
      "execution_count": 59,
      "outputs": [
        {
          "output_type": "display_data",
          "data": {
            "image/png": "[encoded data removed]",
            "text/plain": [
              "<Figure size 432x288 with 1 Axes>"
            ]
          },
          "metadata": {}
        },
        {
          "output_type": "display_data",
          "data": {
            "image/png": "[encoded data removed]",
            "text/plain": [
              "<Figure size 432x288 with 1 Axes>"
            ]
          },
          "metadata": {}
        }
      ]
    },
    {
      "cell_type": "code",
      "metadata": {
        "id": "Nz_jd0orcZ8q"
      },
      "source": [
        ""
      ],
      "execution_count": null,
      "outputs": []
    }
  ]
}
